{
 "cells": [
  {
   "cell_type": "markdown",
   "metadata": {},
   "source": [
    "# Lab 3 Part I: UCI-HAR CNN with MicroAI deployment"
   ]
  },
  {
   "cell_type": "markdown",
   "metadata": {},
   "source": [
    "## Imports"
   ]
  },
  {
   "cell_type": "code",
   "execution_count": 1,
   "metadata": {},
   "outputs": [
    {
     "name": "stderr",
     "output_type": "stream",
     "text": [
      "2023-03-24 14:06:21.536656: I tensorflow/core/platform/cpu_feature_guard.cc:193] This TensorFlow binary is optimized with oneAPI Deep Neural Network Library (oneDNN) to use the following CPU instructions in performance-critical operations:  SSE4.1 SSE4.2 AVX AVX2 FMA\n",
      "To enable them in other operations, rebuild TensorFlow with the appropriate compiler flags.\n"
     ]
    }
   ],
   "source": [
    "import copy\n",
    "from pathlib import Path\n",
    "import numpy as np\n",
    "import tensorflow as tf\n",
    "from keras.models import Sequential\n",
    "from keras.layers import Input, Conv1D, MaxPool1D, Flatten, Dense, Activation\n",
    "from keras.utils.data_utils import get_file\n",
    "from keras.utils.np_utils import to_categorical"
   ]
  },
  {
   "cell_type": "markdown",
   "metadata": {},
   "source": [
    "## Load and format UCI-HAR dataset (raw data)"
   ]
  },
  {
   "cell_type": "code",
   "execution_count": 2,
   "metadata": {},
   "outputs": [
    {
     "name": "stdout",
     "output_type": "stream",
     "text": [
      "Downloading data from https://archive.ics.uci.edu/ml/machine-learning-databases/00240/UCI%20HAR%20Dataset.zip\n",
      "60999314/60999314 [==============================] - 158s 3us/step\n"
     ]
    }
   ],
   "source": [
    "dataset_path = get_file(None, \"https://archive.ics.uci.edu/ml/machine-learning-databases/00240/UCI%20HAR%20Dataset.zip\", extract=True, file_hash=\"53e099237392e0b9602f8c38f578bd8f\") # Download, cache and extract UCI-HAR\n",
    "dataset_dir = Path(dataset_path).parent\n",
    "\n",
    "def load_set(dataset_dir, part: str): # Load separate sensor signals and combine them into a single array, load labels separately\n",
    "    data = np.hstack([np.loadtxt(dataset_dir/'UCI HAR Dataset'/part/'Inertial Signals'/f'{sensor}_{axis}_{part}.txt')\n",
    "                for sensor in ('body_acc', 'body_gyro', 'total_acc')\n",
    "                    for axis in ('x', 'y', 'z')]).reshape((-1, 128, 9))\n",
    "    labels = to_categorical(np.loadtxt(dataset_dir/'UCI HAR Dataset'/part/f'y_{part}.txt') - 1)\n",
    "    return data, labels\n",
    "\n",
    "x_train, y_train = load_set(dataset_dir, 'train')\n",
    "x_test, y_test = load_set(dataset_dir, 'test')"
   ]
  },
  {
   "cell_type": "markdown",
   "metadata": {},
   "source": [
    "## Export complete test dataset (2947 vectors)"
   ]
  },
  {
   "cell_type": "code",
   "execution_count": 9,
   "metadata": {},
   "outputs": [],
   "source": [
    "np.savetxt('x_test_uci-har.csv', x_test.reshape((x_test.shape[0], -1)), delimiter=',', fmt='%s')\n",
    "np.savetxt('y_test_uci-har.csv', y_test, delimiter=',', fmt='%s')"
   ]
  },
  {
   "cell_type": "markdown",
   "metadata": {},
   "source": [
    "## Export small dataset (250 vectors)"
   ]
  },
  {
   "cell_type": "code",
   "execution_count": 10,
   "metadata": {},
   "outputs": [],
   "source": [
    "x_test_250 = x_test[0:250]\n",
    "y_test_250 = y_test[0:250]\n",
    "np.savetxt('x_test_uci-har_250.csv', x_test_250.reshape((x_test_250.shape[0], -1)), delimiter=',', fmt='%s')\n",
    "np.savetxt('y_test_uci-har_250.csv', y_test_250, delimiter=',', fmt='%s')"
   ]
  },
  {
   "cell_type": "markdown",
   "metadata": {},
   "source": [
    "## Build model"
   ]
  },
  {
   "cell_type": "code",
   "execution_count": 11,
   "metadata": {},
   "outputs": [
    {
     "name": "stdout",
     "output_type": "stream",
     "text": [
      "Model: \"sequential_1\"\n",
      "_________________________________________________________________\n",
      " Layer (type)                Output Shape              Param #   \n",
      "=================================================================\n",
      " conv1d_3 (Conv1D)           (None, 126, 8)            224       \n",
      "                                                                 \n",
      " max_pooling1d_2 (MaxPooling  (None, 63, 8)            0         \n",
      " 1D)                                                             \n",
      "                                                                 \n",
      " conv1d_4 (Conv1D)           (None, 59, 8)             328       \n",
      "                                                                 \n",
      " max_pooling1d_3 (MaxPooling  (None, 29, 8)            0         \n",
      " 1D)                                                             \n",
      "                                                                 \n",
      " conv1d_5 (Conv1D)           (None, 23, 8)             456       \n",
      "                                                                 \n",
      " flatten_1 (Flatten)         (None, 184)               0         \n",
      "                                                                 \n",
      " dense_1 (Dense)             (None, 6)                 1110      \n",
      "                                                                 \n",
      " activation_1 (Activation)   (None, 6)                 0         \n",
      "                                                                 \n",
      "=================================================================\n",
      "Total params: 2,118\n",
      "Trainable params: 2,118\n",
      "Non-trainable params: 0\n",
      "_________________________________________________________________\n"
     ]
    }
   ],
   "source": [
    "model = Sequential()\n",
    "model.add(Input(shape=(128, 9)))\n",
    "model.add(Conv1D(filters=8, kernel_size=3, activation='relu'))\n",
    "model.add(MaxPool1D())\n",
    "model.add(Conv1D(filters=8, kernel_size=5, activation='relu'))\n",
    "model.add(MaxPool1D())\n",
    "model.add(Conv1D(filters=8, kernel_size=7, activation='relu'))\n",
    "model.add(Flatten())\n",
    "model.add(Dense(units=6))\n",
    "model.add(Activation('softmax')) # SoftMax activation needs to be separate from Dense to remove it later on\n",
    "# EXPLORE Learning Rate\n",
    "opt = tf.keras.optimizers.Adam(learning_rate=10e-3)\n",
    "model.summary()\n",
    "model.compile(optimizer=opt, loss='categorical_crossentropy', metrics=['categorical_accuracy'])"
   ]
  },
  {
   "cell_type": "markdown",
   "metadata": {},
   "source": [
    "## Train model"
   ]
  },
  {
   "cell_type": "code",
   "execution_count": 12,
   "metadata": {},
   "outputs": [
    {
     "name": "stdout",
     "output_type": "stream",
     "text": [
      "Epoch 1/7\n",
      "230/230 [==============================] - 2s 5ms/step - loss: 0.3866 - categorical_accuracy: 0.8481 - val_loss: 0.3242 - val_categorical_accuracy: 0.8768\n",
      "Epoch 2/7\n",
      "230/230 [==============================] - 1s 4ms/step - loss: 0.1760 - categorical_accuracy: 0.9329 - val_loss: 0.2745 - val_categorical_accuracy: 0.9043\n",
      "Epoch 3/7\n",
      "230/230 [==============================] - 1s 4ms/step - loss: 0.1381 - categorical_accuracy: 0.9464 - val_loss: 0.4041 - val_categorical_accuracy: 0.8643\n",
      "Epoch 4/7\n",
      "230/230 [==============================] - 1s 4ms/step - loss: 0.1410 - categorical_accuracy: 0.9472 - val_loss: 0.2040 - val_categorical_accuracy: 0.9257\n",
      "Epoch 5/7\n",
      "230/230 [==============================] - 1s 4ms/step - loss: 0.1113 - categorical_accuracy: 0.9566 - val_loss: 0.3641 - val_categorical_accuracy: 0.8968\n",
      "Epoch 6/7\n",
      "230/230 [==============================] - 1s 4ms/step - loss: 0.1140 - categorical_accuracy: 0.9543 - val_loss: 0.2654 - val_categorical_accuracy: 0.9179\n",
      "Epoch 7/7\n",
      "230/230 [==============================] - 1s 4ms/step - loss: 0.1319 - categorical_accuracy: 0.9525 - val_loss: 0.2977 - val_categorical_accuracy: 0.9013\n"
     ]
    }
   ],
   "source": [
    "history = model.fit(x_train, y_train, epochs=7, validation_data=(x_test, y_test))"
   ]
  },
  {
   "cell_type": "markdown",
   "metadata": {},
   "source": [
    "## Evaluate model on complete test dataset"
   ]
  },
  {
   "cell_type": "code",
   "execution_count": 13,
   "metadata": {},
   "outputs": [
    {
     "name": "stdout",
     "output_type": "stream",
     "text": [
      "93/93 - 0s - loss: 0.2977 - categorical_accuracy: 0.9013 - 151ms/epoch - 2ms/step\n",
      "93/93 [==============================] - 0s 2ms/step\n",
      "tf.Tensor(\n",
      "[[464  18  13   0   1   0]\n",
      " [  3 459   5   1   3   0]\n",
      " [  9  83 328   0   0   0]\n",
      " [  0   5   0 386 100   0]\n",
      " [  0   2   0  48 482   0]\n",
      " [  0   0   0   0   0 537]], shape=(6, 6), dtype=int32)\n"
     ]
    }
   ],
   "source": [
    "model.evaluate(x_test, y_test, verbose=2)\n",
    "pred_test = model.predict(x_test)\n",
    "print(tf.math.confusion_matrix(y_test.argmax(axis=1), pred_test.argmax(axis=1)))"
   ]
  },
  {
   "cell_type": "markdown",
   "metadata": {},
   "source": [
    "## Evaluate model on small dataset"
   ]
  },
  {
   "cell_type": "code",
   "execution_count": 14,
   "metadata": {},
   "outputs": [
    {
     "name": "stdout",
     "output_type": "stream",
     "text": [
      "8/8 - 0s - loss: 0.4764 - categorical_accuracy: 0.8320 - 27ms/epoch - 3ms/step\n",
      "8/8 [==============================] - 0s 2ms/step\n",
      "tf.Tensor(\n",
      "[[52  1  0  0  0  0]\n",
      " [ 0 25  0  0  0  0]\n",
      " [ 0 14 10  0  0  0]\n",
      " [ 0  0  0 19 27  0]\n",
      " [ 0  0  0  0 54  0]\n",
      " [ 0  0  0  0  0 48]], shape=(6, 6), dtype=int32)\n"
     ]
    }
   ],
   "source": [
    "model.evaluate(x_test_250, y_test_250, verbose=2)\n",
    "pred_test_250 = model.predict(x_test_250)\n",
    "print(tf.math.confusion_matrix(y_test_250.argmax(axis=1), pred_test_250.argmax(axis=1)))"
   ]
  },
  {
   "cell_type": "markdown",
   "metadata": {},
   "source": [
    "## Save trained model"
   ]
  },
  {
   "cell_type": "code",
   "execution_count": 15,
   "metadata": {},
   "outputs": [],
   "source": [
    "model.save('lab3_part1_uci-har_microai.h5')"
   ]
  },
  {
   "cell_type": "markdown",
   "metadata": {},
   "source": [
    "## Remove SoftMax layer"
   ]
  },
  {
   "cell_type": "code",
   "execution_count": 16,
   "metadata": {},
   "outputs": [],
   "source": [
    "model = tf.keras.Model(model.input, model.layers[-2].output, name=model.name)"
   ]
  },
  {
   "cell_type": "markdown",
   "metadata": {},
   "source": [
    "## Install MicroAI for C inference code generation (kerascnn2c module)"
   ]
  },
  {
   "cell_type": "code",
   "execution_count": 17,
   "metadata": {},
   "outputs": [
    {
     "name": "stdout",
     "output_type": "stream",
     "text": [
      "Collecting https://bitbucket.org/edge-team-leat/microai_public/get/6adfbcb347d3.zip#subdirectory=third_party/kerascnn2c_fixed\r\n",
      "  Downloading https://bitbucket.org/edge-team-leat/microai_public/get/6adfbcb347d3.zip (1.9 MB)\r\n",
      "\u001b[2K     \u001b[90m━━━━━━━━━━━━━━━━━━━━━━━━━━━━━━━━━━━━━━━━\u001b[0m \u001b[32m1.9/1.9 MB\u001b[0m \u001b[31m3.1 MB/s\u001b[0m eta \u001b[36m0:00:00\u001b[0ma \u001b[36m0:00:01\u001b[0m\r\n",
      "\u001b[?25h  Preparing metadata (setup.py) ... \u001b[?25ldone\r\n",
      "\u001b[?25hRequirement already satisfied: numpy in /opt/conda/lib/python3.10/site-packages (from kerascnn2c==1.0.0) (1.23.5)\r\n",
      "Requirement already satisfied: jinja2 in /opt/conda/lib/python3.10/site-packages (from kerascnn2c==1.0.0) (3.1.2)\r\n",
      "Requirement already satisfied: MarkupSafe>=2.0 in /opt/conda/lib/python3.10/site-packages (from jinja2->kerascnn2c==1.0.0) (2.1.2)\r\n",
      "Building wheels for collected packages: kerascnn2c\r\n",
      "  Building wheel for kerascnn2c (setup.py) ... \u001b[?25ldone\r\n",
      "\u001b[?25h  Created wheel for kerascnn2c: filename=kerascnn2c-1.0.0-py3-none-any.whl size=21339 sha256=dfcf69d0b121998edefd644edf1972299c9223344be706a1e4219e84abd6c140\r\n",
      "  Stored in directory: /tmp/pip-ephem-wheel-cache-2ax6oj4l/wheels/29/df/9b/d62a64e871a29555dc13bc0c189d46297cdf80a3332230aaa1\r\n",
      "Successfully built kerascnn2c\r\n",
      "Installing collected packages: kerascnn2c\r\n",
      "Successfully installed kerascnn2c-1.0.0\r\n"
     ]
    }
   ],
   "source": [
    "!pip install https://bitbucket.org/edge-team-leat/microai_public/get/6adfbcb347d3.zip#subdirectory=third_party/kerascnn2c_fixed\n",
    "import kerascnn2c"
   ]
  },
  {
   "cell_type": "markdown",
   "metadata": {},
   "source": [
    "## Generate C code for the trained model with 32-bit floating-point representation"
   ]
  },
  {
   "cell_type": "code",
   "execution_count": 18,
   "metadata": {},
   "outputs": [
    {
     "name": "stdout",
     "output_type": "stream",
     "text": [
      "Keras weights file (<HDF5 file \"variables.h5\" (mode r+)>) saving:\n",
      "...layers\n",
      "......conv1d\n",
      ".........vars\n",
      "............0\n",
      "............1\n",
      "......conv1d_1\n",
      ".........vars\n",
      "............0\n",
      "............1\n",
      "......conv1d_2\n",
      ".........vars\n",
      "............0\n",
      "............1\n",
      "......dense\n",
      ".........vars\n",
      "............0\n",
      "............1\n",
      "......flatten\n",
      ".........vars\n",
      "......input_layer\n",
      ".........vars\n",
      "......max_pooling1d\n",
      ".........vars\n",
      "......max_pooling1d_1\n",
      ".........vars\n",
      "...vars\n",
      "Keras model archive saving:\n",
      "File Name                                             Modified             Size\n",
      "metadata.json                                  2023-03-24 14:13:15           64\n",
      "config.json                                    2023-03-24 14:13:15         3531\n",
      "variables.h5                                   2023-03-24 14:13:15        30896\n",
      "Keras model archive loading:\n",
      "File Name                                             Modified             Size\n",
      "metadata.json                                  2023-03-24 14:13:14           64\n",
      "config.json                                    2023-03-24 14:13:14         3531\n",
      "variables.h5                                   2023-03-24 14:13:14        30896\n",
      "Keras weights file (<HDF5 file \"variables.h5\" (mode r)>) loading:\n",
      "...layers\n",
      "......conv1d\n",
      ".........vars\n",
      "............0\n",
      "............1\n",
      "......conv1d_1\n",
      ".........vars\n",
      "............0\n",
      "............1\n",
      "......conv1d_2\n",
      ".........vars\n",
      "............0\n",
      "............1\n",
      "......dense\n",
      ".........vars\n",
      "............0\n",
      "............1\n",
      "......flatten\n",
      ".........vars\n",
      "......input_layer\n",
      ".........vars\n",
      "......max_pooling1d\n",
      ".........vars\n",
      "......max_pooling1d_1\n",
      ".........vars\n",
      "...vars\n",
      "———————————————————————————————————————————————————————————————————————————————————————————————————————\n",
      "Inputs                           | Layer                            | Outputs                         \n",
      "———————————————————————————————————————————————————————————————————————————————————————————————————————\n",
      "                                 | input_2                          | conv1d_3                        \n",
      "-------------------------------------------------------------------------------------------------------\n",
      "input_2                          | conv1d_3                         | max_pooling1d_2                 \n",
      "-------------------------------------------------------------------------------------------------------\n",
      "conv1d_3                         | max_pooling1d_2                  | conv1d_4                        \n",
      "-------------------------------------------------------------------------------------------------------\n",
      "max_pooling1d_2                  | conv1d_4                         | max_pooling1d_3                 \n",
      "-------------------------------------------------------------------------------------------------------\n",
      "conv1d_4                         | max_pooling1d_3                  | conv1d_5                        \n",
      "-------------------------------------------------------------------------------------------------------\n",
      "max_pooling1d_3                  | conv1d_5                         | flatten_1                       \n",
      "-------------------------------------------------------------------------------------------------------\n",
      "conv1d_5                         | flatten_1                        | dense_1                         \n",
      "-------------------------------------------------------------------------------------------------------\n",
      "flatten_1                        | dense_1                          |                                 \n",
      "-------------------------------------------------------------------------------------------------------\n",
      "\n",
      "After optimization:\n",
      "———————————————————————————————————————————————————————————————————————————————————————————————————————\n",
      "Inputs                           | Layer                            | Outputs                         \n",
      "———————————————————————————————————————————————————————————————————————————————————————————————————————\n",
      "                                 | input_2                          | conv1d_3                        \n",
      "-------------------------------------------------------------------------------------------------------\n",
      "input_2                          | conv1d_3                         | max_pooling1d_2                 \n",
      "-------------------------------------------------------------------------------------------------------\n",
      "conv1d_3                         | max_pooling1d_2                  | conv1d_4                        \n",
      "-------------------------------------------------------------------------------------------------------\n",
      "max_pooling1d_2                  | conv1d_4                         | max_pooling1d_3                 \n",
      "-------------------------------------------------------------------------------------------------------\n",
      "conv1d_4                         | max_pooling1d_3                  | conv1d_5                        \n",
      "-------------------------------------------------------------------------------------------------------\n",
      "max_pooling1d_3                  | conv1d_5                         | flatten_1                       \n",
      "-------------------------------------------------------------------------------------------------------\n",
      "conv1d_5                         | flatten_1                        | dense_1                         \n",
      "-------------------------------------------------------------------------------------------------------\n",
      "flatten_1                        | dense_1                          |                                 \n",
      "-------------------------------------------------------------------------------------------------------\n",
      "\n"
     ]
    }
   ],
   "source": [
    "res = kerascnn2c.Converter(output_path=Path('uci-har_output_floating'),\n",
    "                           fixed_point=0, # floating-point\n",
    "                           number_type='float', # Data type for weights/activations (single-precision floating-point)\n",
    "                           long_number_type='float', # Data type for intermediate results\n",
    "                           number_min=-float('inf'), # Minimum value for float is negative infinity\n",
    "                           number_max=float('inf') # Maximum value for float is infinity\n",
    "                          ).convert_model(copy.deepcopy(model))\n",
    "with open('uci-har_model_floating.h', 'w') as f:\n",
    "    f.write(res)"
   ]
  },
  {
   "cell_type": "markdown",
   "metadata": {
    "tags": []
   },
   "source": [
    "## Compile the 32-bit floating-point C code for x86 and evaluate"
   ]
  },
  {
   "cell_type": "code",
   "execution_count": 22,
   "metadata": {},
   "outputs": [
    {
     "name": "stdout",
     "output_type": "stream",
     "text": [
      "/home/jovyan/work/Lab3\r\n",
      "\u001b[01m\u001b[Kuci-har_output_floating/model.c:\u001b[m\u001b[K In function ‘\u001b[01m\u001b[Kvoid cnn(const number_t (*)[128], number_t*)\u001b[m\u001b[K’:\r\n",
      "\u001b[01m\u001b[Kuci-har_output_floating/model.c:104:18:\u001b[m\u001b[K \u001b[01;35m\u001b[Kwarning: \u001b[m\u001b[Kleft operand of comma operator has no effect [\u001b[01;35m\u001b[K\u001b]8;;https://gcc.gnu.org/onlinedocs/gcc/Warning-Options.html#index-Wunused-value\u0007-Wunused-value\u001b]8;;\u0007\u001b[m\u001b[K]\r\n",
      "  104 |     \u001b[01;35m\u001b[Kactivations1.conv1d_5_output\u001b[m\u001b[K,\r\n",
      "      |     \u001b[01;35m\u001b[K~~~~~~~~~~~~~^~~~~~~~~~~~~~~\u001b[m\u001b[K\r\n",
      "Testing accuracy: 0.901255\r\n"
     ]
    }
   ],
   "source": [
    "!echo $PWD\n",
    "!g++ -Wall -Wextra -pedantic -Ofast -o uci-har_floating -Iuci-har_output_floating/ uci-har_output_floating/model.c main.cpp\n",
    "!./uci-har_floating x_test_uci-har.csv y_test_uci-har.csv"
   ]
  },
  {
   "cell_type": "markdown",
   "metadata": {},
   "source": [
    "## Generate C code for the trained model with 16-bit fixed-point representation"
   ]
  },
  {
   "cell_type": "code",
   "execution_count": 20,
   "metadata": {},
   "outputs": [
    {
     "name": "stdout",
     "output_type": "stream",
     "text": [
      "Keras weights file (<HDF5 file \"variables.h5\" (mode r+)>) saving:\n",
      "...layers\n",
      "......conv1d\n",
      ".........vars\n",
      "............0\n",
      "............1\n",
      "......conv1d_1\n",
      ".........vars\n",
      "............0\n",
      "............1\n",
      "......conv1d_2\n",
      ".........vars\n",
      "............0\n",
      "............1\n",
      "......dense\n",
      ".........vars\n",
      "............0\n",
      "............1\n",
      "......flatten\n",
      ".........vars\n",
      "......input_layer\n",
      ".........vars\n",
      "......max_pooling1d\n",
      ".........vars\n",
      "......max_pooling1d_1\n",
      ".........vars\n",
      "...vars\n",
      "Keras model archive saving:\n",
      "File Name                                             Modified             Size\n",
      "metadata.json                                  2023-03-24 14:14:10           64\n",
      "config.json                                    2023-03-24 14:14:10         3531\n",
      "variables.h5                                   2023-03-24 14:14:10        30896\n",
      "Keras model archive loading:\n",
      "File Name                                             Modified             Size\n",
      "metadata.json                                  2023-03-24 14:14:10           64\n",
      "config.json                                    2023-03-24 14:14:10         3531\n",
      "variables.h5                                   2023-03-24 14:14:10        30896\n",
      "Keras weights file (<HDF5 file \"variables.h5\" (mode r)>) loading:\n",
      "...layers\n",
      "......conv1d\n",
      ".........vars\n",
      "............0\n",
      "............1\n",
      "......conv1d_1\n",
      ".........vars\n",
      "............0\n",
      "............1\n",
      "......conv1d_2\n",
      ".........vars\n",
      "............0\n",
      "............1\n",
      "......dense\n",
      ".........vars\n",
      "............0\n",
      "............1\n",
      "......flatten\n",
      ".........vars\n",
      "......input_layer\n",
      ".........vars\n",
      "......max_pooling1d\n",
      ".........vars\n",
      "......max_pooling1d_1\n",
      ".........vars\n",
      "...vars\n",
      "———————————————————————————————————————————————————————————————————————————————————————————————————————\n",
      "Inputs                           | Layer                            | Outputs                         \n",
      "———————————————————————————————————————————————————————————————————————————————————————————————————————\n",
      "                                 | input_2                          | conv1d_3                        \n",
      "-------------------------------------------------------------------------------------------------------\n",
      "input_2                          | conv1d_3                         | max_pooling1d_2                 \n",
      "-------------------------------------------------------------------------------------------------------\n",
      "conv1d_3                         | max_pooling1d_2                  | conv1d_4                        \n",
      "-------------------------------------------------------------------------------------------------------\n",
      "max_pooling1d_2                  | conv1d_4                         | max_pooling1d_3                 \n",
      "-------------------------------------------------------------------------------------------------------\n",
      "conv1d_4                         | max_pooling1d_3                  | conv1d_5                        \n",
      "-------------------------------------------------------------------------------------------------------\n",
      "max_pooling1d_3                  | conv1d_5                         | flatten_1                       \n",
      "-------------------------------------------------------------------------------------------------------\n",
      "conv1d_5                         | flatten_1                        | dense_1                         \n",
      "-------------------------------------------------------------------------------------------------------\n",
      "flatten_1                        | dense_1                          |                                 \n",
      "-------------------------------------------------------------------------------------------------------\n",
      "\n",
      "After optimization:\n",
      "———————————————————————————————————————————————————————————————————————————————————————————————————————\n",
      "Inputs                           | Layer                            | Outputs                         \n",
      "———————————————————————————————————————————————————————————————————————————————————————————————————————\n",
      "                                 | input_2                          | conv1d_3                        \n",
      "-------------------------------------------------------------------------------------------------------\n",
      "input_2                          | conv1d_3                         | max_pooling1d_2                 \n",
      "-------------------------------------------------------------------------------------------------------\n",
      "conv1d_3                         | max_pooling1d_2                  | conv1d_4                        \n",
      "-------------------------------------------------------------------------------------------------------\n",
      "max_pooling1d_2                  | conv1d_4                         | max_pooling1d_3                 \n",
      "-------------------------------------------------------------------------------------------------------\n",
      "conv1d_4                         | max_pooling1d_3                  | conv1d_5                        \n",
      "-------------------------------------------------------------------------------------------------------\n",
      "max_pooling1d_3                  | conv1d_5                         | flatten_1                       \n",
      "-------------------------------------------------------------------------------------------------------\n",
      "conv1d_5                         | flatten_1                        | dense_1                         \n",
      "-------------------------------------------------------------------------------------------------------\n",
      "flatten_1                        | dense_1                          |                                 \n",
      "-------------------------------------------------------------------------------------------------------\n",
      "\n"
     ]
    }
   ],
   "source": [
    "res = kerascnn2c.Converter(output_path=Path('uci-har_output_fixed'),\n",
    "                           fixed_point=9, # Number of bits for the fractional part, Q7.9 format\n",
    "                           number_type='int16_t', # Data type for weights/activations (16 bits quantization)\n",
    "                           long_number_type='int32_t', # Data type for intermediate results\n",
    "                           number_min=-(2**15), # Minimum value for 16-bit signed integers\n",
    "                           number_max=(2**15)-1 # Maximum value for 16-bit signed integers\n",
    "                          ).convert_model(copy.deepcopy(model))\n",
    "with open('uci-har_model_fixed.h', 'w') as f:\n",
    "    f.write(res)"
   ]
  },
  {
   "cell_type": "markdown",
   "metadata": {
    "tags": []
   },
   "source": [
    "## Compile the 16-bit fixed-point C code for x86 and evaluate"
   ]
  },
  {
   "cell_type": "code",
   "execution_count": 21,
   "metadata": {},
   "outputs": [
    {
     "name": "stdout",
     "output_type": "stream",
     "text": [
      "\u001b[01m\u001b[Kuci-har_output_fixed/model.c:\u001b[m\u001b[K In function ‘\u001b[01m\u001b[Kvoid cnn(const number_t (*)[128], number_t*)\u001b[m\u001b[K’:\r\n",
      "\u001b[01m\u001b[Kuci-har_output_fixed/model.c:104:18:\u001b[m\u001b[K \u001b[01;35m\u001b[Kwarning: \u001b[m\u001b[Kleft operand of comma operator has no effect [\u001b[01;35m\u001b[K\u001b]8;;https://gcc.gnu.org/onlinedocs/gcc/Warning-Options.html#index-Wunused-value\u0007-Wunused-value\u001b]8;;\u0007\u001b[m\u001b[K]\r\n",
      "  104 |     \u001b[01;35m\u001b[Kactivations1.conv1d_5_output\u001b[m\u001b[K,\r\n",
      "      |     \u001b[01;35m\u001b[K~~~~~~~~~~~~~^~~~~~~~~~~~~~~\u001b[m\u001b[K\r\n",
      "Testing accuracy: 0.901255\r\n"
     ]
    }
   ],
   "source": [
    "!g++ -Wall -Wextra -pedantic -Ofast -o uci-har_fixed -Iuci-har_output_fixed/ uci-har_output_fixed/model.c main.cpp \n",
    "!./uci-har_fixed x_test_uci-har.csv y_test_uci-har.csv"
   ]
  },
  {
   "cell_type": "code",
   "execution_count": null,
   "metadata": {
    "collapsed": false
   },
   "outputs": [],
   "source": []
  }
 ],
 "metadata": {
  "kernelspec": {
   "display_name": "Python 3 (ipykernel)",
   "language": "python",
   "name": "python3"
  },
  "language_info": {
   "codemirror_mode": {
    "name": "ipython",
    "version": 3
   },
   "file_extension": ".py",
   "mimetype": "text/x-python",
   "name": "python",
   "nbconvert_exporter": "python",
   "pygments_lexer": "ipython3",
   "version": "3.9.7"
  }
 },
 "nbformat": 4,
 "nbformat_minor": 4
}
