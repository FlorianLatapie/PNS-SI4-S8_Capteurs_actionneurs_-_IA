{
 "cells": [
  {
   "cell_type": "markdown",
   "metadata": {},
   "source": [
    "# Lab 1 Part I: MNIST 2D CNN"
   ]
  },
  {
   "cell_type": "markdown",
   "metadata": {},
   "source": [
    "## Imports"
   ]
  },
  {
   "cell_type": "code",
   "execution_count": null,
   "metadata": {
    "tags": [],
    "pycharm": {
     "is_executing": true
    }
   },
   "outputs": [],
   "source": [
    "import numpy as np\n",
    "import tensorflow as tf\n",
    "from keras.models import Sequential\n",
    "from keras.layers import Input, Conv2D, MaxPool2D, Flatten, Dense\n",
    "from keras.datasets import mnist\n",
    "from keras.utils.np_utils import to_categorical"
   ]
  },
  {
   "cell_type": "markdown",
   "metadata": {},
   "source": [
    "## Load and format MNIST dataset"
   ]
  },
  {
   "cell_type": "code",
   "execution_count": 6,
   "metadata": {
    "tags": []
   },
   "outputs": [],
   "source": [
    "(x_train, y_train), (x_test, y_test) = mnist.load_data()\n",
    "x_train = x_train.astype('float32') / 255\n",
    "x_test  = x_test.astype('float32')  / 255\n",
    "x_train = x_train.reshape((60000, 28, 28, 1)) # 'channels_last' format\n",
    "x_test  = x_test.reshape((10000, 28, 28, 1)) # 'channels_last' format\n",
    "y_train = to_categorical(y_train, 10)\n",
    "y_test  = to_categorical(y_test,  10)"
   ]
  },
  {
   "cell_type": "markdown",
   "metadata": {},
   "source": [
    "## Build model"
   ]
  },
  {
   "cell_type": "code",
   "execution_count": 7,
   "metadata": {
    "tags": []
   },
   "outputs": [
    {
     "name": "stdout",
     "output_type": "stream",
     "text": [
      "Model: \"sequential_1\"\n",
      "_________________________________________________________________\n",
      " Layer (type)                Output Shape              Param #   \n",
      "=================================================================\n",
      " conv2d_2 (Conv2D)           (None, 26, 26, 8)         80        \n",
      "                                                                 \n",
      " max_pooling2d_1 (MaxPooling  (None, 13, 13, 8)        0         \n",
      " 2D)                                                             \n",
      "                                                                 \n",
      " conv2d_3 (Conv2D)           (None, 7, 7, 8)           3144      \n",
      "                                                                 \n",
      " flatten_1 (Flatten)         (None, 392)               0         \n",
      "                                                                 \n",
      " dense_1 (Dense)             (None, 10)                3930      \n",
      "                                                                 \n",
      "=================================================================\n",
      "Total params: 7,154\n",
      "Trainable params: 7,154\n",
      "Non-trainable params: 0\n",
      "_________________________________________________________________\n"
     ]
    }
   ],
   "source": [
    "model = Sequential()\n",
    "model.add(Input(shape=(28, 28, 1)))\n",
    "model.add(Conv2D(filters=8, kernel_size=(3, 3), activation='relu'))\n",
    "model.add(MaxPool2D())\n",
    "model.add(Conv2D(filters=8, kernel_size=(7, 7), activation='relu'))\n",
    "model.add(Flatten())\n",
    "model.add(Dense(units=10, activation='softmax'))\n",
    "model.summary()\n",
    "model.compile(optimizer='adam', loss='categorical_crossentropy', metrics=['categorical_accuracy'])"
   ]
  },
  {
   "cell_type": "markdown",
   "metadata": {},
   "source": [
    "## Train model"
   ]
  },
  {
   "cell_type": "code",
   "execution_count": 8,
   "metadata": {
    "tags": []
   },
   "outputs": [
    {
     "name": "stdout",
     "output_type": "stream",
     "text": [
      "Epoch 1/8\n",
      "1875/1875 [==============================] - 19s 10ms/step - loss: 0.2649 - categorical_accuracy: 0.9211 - val_loss: 0.1014 - val_categorical_accuracy: 0.9680\n",
      "Epoch 2/8\n",
      "1875/1875 [==============================] - 20s 11ms/step - loss: 0.0964 - categorical_accuracy: 0.9703 - val_loss: 0.0680 - val_categorical_accuracy: 0.9785\n",
      "Epoch 3/8\n",
      "1875/1875 [==============================] - 23s 12ms/step - loss: 0.0711 - categorical_accuracy: 0.9781 - val_loss: 0.0535 - val_categorical_accuracy: 0.9816\n",
      "Epoch 4/8\n",
      "1875/1875 [==============================] - 25s 13ms/step - loss: 0.0574 - categorical_accuracy: 0.9822 - val_loss: 0.0487 - val_categorical_accuracy: 0.9837\n",
      "Epoch 5/8\n",
      "1875/1875 [==============================] - 20s 11ms/step - loss: 0.0484 - categorical_accuracy: 0.9848 - val_loss: 0.0477 - val_categorical_accuracy: 0.9849\n",
      "Epoch 6/8\n",
      "1875/1875 [==============================] - 25s 13ms/step - loss: 0.0425 - categorical_accuracy: 0.9866 - val_loss: 0.0457 - val_categorical_accuracy: 0.9845\n",
      "Epoch 7/8\n",
      "1875/1875 [==============================] - 23s 12ms/step - loss: 0.0385 - categorical_accuracy: 0.9876 - val_loss: 0.0445 - val_categorical_accuracy: 0.9857\n",
      "Epoch 8/8\n",
      "1875/1875 [==============================] - 18s 10ms/step - loss: 0.0352 - categorical_accuracy: 0.9886 - val_loss: 0.0472 - val_categorical_accuracy: 0.9857\n"
     ]
    },
    {
     "data": {
      "text/plain": "<keras.callbacks.History at 0x2949dff2c20>"
     },
     "execution_count": 8,
     "metadata": {},
     "output_type": "execute_result"
    }
   ],
   "source": [
    "model.fit(x_train, y_train, epochs=8, validation_data=(x_test, y_test))"
   ]
  },
  {
   "cell_type": "markdown",
   "metadata": {},
   "source": [
    "## Evaluate model"
   ]
  },
  {
   "cell_type": "code",
   "execution_count": 9,
   "metadata": {
    "tags": []
   },
   "outputs": [
    {
     "name": "stdout",
     "output_type": "stream",
     "text": [
      "313/313 - 2s - loss: 0.0472 - categorical_accuracy: 0.9857 - 2s/epoch - 7ms/step\n",
      "313/313 [==============================] - 2s 5ms/step\n",
      "tf.Tensor(\n",
      "[[ 968    1    1    0    0    2    2    2    4    0]\n",
      " [   0 1122    3    3    1    0    1    2    3    0]\n",
      " [   1    0 1028    0    0    0    0    2    1    0]\n",
      " [   0    0    5 1000    0    2    0    1    2    0]\n",
      " [   0    0    3    0  970    0    2    0    2    5]\n",
      " [   0    0    1   10    0  876    1    0    1    3]\n",
      " [   6    1    2    0    1    2  944    0    2    0]\n",
      " [   0    1   11    2    0    0    0 1009    1    4]\n",
      " [   1    0    7    3    1    3    0    2  951    6]\n",
      " [   2    0    1    5    4    3    0    2    3  989]], shape=(10, 10), dtype=int32)\n"
     ]
    }
   ],
   "source": [
    "model.evaluate(x_test, y_test, verbose=2)\n",
    "pred_test = model.predict(x_test)\n",
    "print(tf.math.confusion_matrix(y_test.argmax(axis=1), pred_test.argmax(axis=1)))"
   ]
  },
  {
   "cell_type": "markdown",
   "metadata": {},
   "source": [
    "## Save trained model"
   ]
  },
  {
   "cell_type": "code",
   "execution_count": 6,
   "metadata": {
    "tags": []
   },
   "outputs": [],
   "source": [
    "model.save('lab1_part1_mnist.h5')"
   ]
  },
  {
   "cell_type": "code",
   "execution_count": null,
   "metadata": {},
   "outputs": [],
   "source": []
  }
 ],
 "metadata": {
  "kernelspec": {
   "display_name": "Python 3 (ipykernel)",
   "language": "python",
   "name": "python3"
  },
  "language_info": {
   "codemirror_mode": {
    "name": "ipython",
    "version": 3
   },
   "file_extension": ".py",
   "mimetype": "text/x-python",
   "name": "python",
   "nbconvert_exporter": "python",
   "pygments_lexer": "ipython3",
   "version": "3.10.9"
  }
 },
 "nbformat": 4,
 "nbformat_minor": 4
}
