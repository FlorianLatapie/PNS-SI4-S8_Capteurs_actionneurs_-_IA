{
 "cells": [
  {
   "cell_type": "markdown",
   "metadata": {},
   "source": [
    "# Lab 1 Part II: UCI-HAR 1D CNN"
   ]
  },
  {
   "cell_type": "markdown",
   "metadata": {},
   "source": [
    "## Imports"
   ]
  },
  {
   "cell_type": "code",
   "execution_count": 10,
   "metadata": {
    "tags": []
   },
   "outputs": [],
   "source": [
    "from pathlib import Path\n",
    "import numpy as np\n",
    "import tensorflow as tf\n",
    "from keras.models import Sequential\n",
    "from keras.layers import Input, Conv1D, MaxPool1D, Flatten, Dense, Activation\n",
    "from keras.utils.data_utils import get_file\n",
    "from keras.utils.np_utils import to_categorical\n",
    "import matplotlib.pyplot as plt"
   ]
  },
  {
   "cell_type": "markdown",
   "metadata": {},
   "source": [
    "## Load and format UCI-HAR dataset (raw data)"
   ]
  },
  {
   "cell_type": "code",
   "execution_count": 2,
   "metadata": {
    "tags": []
   },
   "outputs": [],
   "source": [
    "dataset_path = get_file(None, \"https://archive.ics.uci.edu/ml/machine-learning-databases/00240/UCI%20HAR%20Dataset.zip\", extract=True, file_hash=\"53e099237392e0b9602f8c38f578bd8f\") # Download, cache and extract UCI-HAR\n",
    "dataset_dir = Path(dataset_path).parent\n",
    "\n",
    "def load_set(dataset_dir, part: str): # Load separate sensor signals and combine them into a single array, load labels separately\n",
    "    data = np.hstack([np.loadtxt(dataset_dir/'UCI HAR Dataset'/part/'Inertial Signals'/f'{sensor}_{axis}_{part}.txt')\n",
    "                for sensor in ('body_acc', 'body_gyro', 'total_acc')\n",
    "                    for axis in ('x', 'y', 'z')]).reshape((-1, 128, 9))\n",
    "    labels = to_categorical(np.loadtxt(dataset_dir/'UCI HAR Dataset'/part/f'y_{part}.txt') - 1)\n",
    "    return data, labels\n",
    "\n",
    "x_train, y_train = load_set(dataset_dir, 'train')\n",
    "x_test, y_test = load_set(dataset_dir, 'test')"
   ]
  },
  {
   "cell_type": "markdown",
   "metadata": {},
   "source": [
    "## Export complete test dataset (2947 vectors)"
   ]
  },
  {
   "cell_type": "code",
   "execution_count": 3,
   "metadata": {
    "tags": []
   },
   "outputs": [],
   "source": [
    "np.savetxt('x_test_uci-har.csv', x_test.reshape((x_test.shape[0], -1)), delimiter=',', fmt='%s')\n",
    "np.savetxt('y_test_uci-har.csv', y_test, delimiter=',', fmt='%s')"
   ]
  },
  {
   "cell_type": "markdown",
   "metadata": {},
   "source": [
    "## Export small test dataset (250 vectors)"
   ]
  },
  {
   "cell_type": "code",
   "execution_count": 4,
   "metadata": {
    "tags": []
   },
   "outputs": [],
   "source": [
    "x_test_250 = x_test[0:250]\n",
    "y_test_250 = y_test[0:250]\n",
    "np.savetxt('x_test_uci-har_250.csv', x_test_250.reshape((x_test_250.shape[0], -1)), delimiter=',', fmt='%s')\n",
    "np.savetxt('y_test_uci-har_250.csv', y_test_250, delimiter=',', fmt='%s')"
   ]
  },
  {
   "cell_type": "markdown",
   "metadata": {},
   "source": [
    "## Build model"
   ]
  },
  {
   "cell_type": "code",
   "execution_count": 44,
   "metadata": {
    "tags": []
   },
   "outputs": [
    {
     "name": "stdout",
     "output_type": "stream",
     "text": [
      "Model: \"sequential_3\"\n",
      "_________________________________________________________________\n",
      " Layer (type)                Output Shape              Param #   \n",
      "=================================================================\n",
      " conv1d_8 (Conv1D)           (None, 122, 10)           640       \n",
      "                                                                 \n",
      " max_pooling1d_5 (MaxPooling  (None, 61, 10)           0         \n",
      " 1D)                                                             \n",
      "                                                                 \n",
      " conv1d_9 (Conv1D)           (None, 51, 10)            1110      \n",
      "                                                                 \n",
      " flatten_3 (Flatten)         (None, 510)               0         \n",
      "                                                                 \n",
      " dense_3 (Dense)             (None, 6)                 3066      \n",
      "                                                                 \n",
      " activation_3 (Activation)   (None, 6)                 0         \n",
      "                                                                 \n",
      "=================================================================\n",
      "Total params: 4,816\n",
      "Trainable params: 4,816\n",
      "Non-trainable params: 0\n",
      "_________________________________________________________________\n"
     ]
    }
   ],
   "source": [
    "model = Sequential()\n",
    "model.add(Input(shape=(128, 9)))\n",
    "model.add(Conv1D(filters=10, kernel_size=7, activation='relu'))\n",
    "model.add(MaxPool1D())\n",
    "model.add(Conv1D(filters=10, kernel_size=11, activation='relu'))\n",
    "model.add(Flatten())\n",
    "model.add(Dense(units=6))\n",
    "model.add(Activation('softmax')) # SoftMax activation needs to be separate from Dense to remove it later on\n",
    "# EXPLORE Learning Rate\n",
    "opt = tf.keras.optimizers.Adam(learning_rate=10e-3)\n",
    "model.summary()\n",
    "model.compile(optimizer=opt, loss='categorical_crossentropy', metrics=['categorical_accuracy'])"
   ]
  },
  {
   "cell_type": "markdown",
   "metadata": {},
   "source": [
    "## Train model"
   ]
  },
  {
   "cell_type": "code",
   "execution_count": 45,
   "metadata": {
    "tags": []
   },
   "outputs": [
    {
     "name": "stdout",
     "output_type": "stream",
     "text": [
      "Epoch 1/30\n",
      "230/230 [==============================] - 1s 4ms/step - loss: 0.3011 - categorical_accuracy: 0.8904 - val_loss: 0.2964 - val_categorical_accuracy: 0.9131\n",
      "Epoch 2/30\n",
      "230/230 [==============================] - 1s 3ms/step - loss: 0.1204 - categorical_accuracy: 0.9521 - val_loss: 0.2795 - val_categorical_accuracy: 0.9277\n",
      "Epoch 3/30\n",
      "230/230 [==============================] - 1s 3ms/step - loss: 0.1230 - categorical_accuracy: 0.9580 - val_loss: 0.2225 - val_categorical_accuracy: 0.9352\n",
      "Epoch 4/30\n",
      "230/230 [==============================] - 1s 3ms/step - loss: 0.1211 - categorical_accuracy: 0.9559 - val_loss: 0.2450 - val_categorical_accuracy: 0.9267\n",
      "Epoch 5/30\n",
      "230/230 [==============================] - 1s 3ms/step - loss: 0.0792 - categorical_accuracy: 0.9693 - val_loss: 0.2266 - val_categorical_accuracy: 0.9355\n",
      "Epoch 6/30\n",
      "230/230 [==============================] - 1s 3ms/step - loss: 0.0736 - categorical_accuracy: 0.9709 - val_loss: 0.3725 - val_categorical_accuracy: 0.9138\n",
      "Epoch 7/30\n",
      "230/230 [==============================] - 1s 3ms/step - loss: 0.1042 - categorical_accuracy: 0.9679 - val_loss: 0.7427 - val_categorical_accuracy: 0.8761\n",
      "Epoch 8/30\n",
      "230/230 [==============================] - 1s 3ms/step - loss: 0.1043 - categorical_accuracy: 0.9656 - val_loss: 0.2786 - val_categorical_accuracy: 0.9277\n",
      "Epoch 9/30\n",
      "230/230 [==============================] - 1s 3ms/step - loss: 0.0908 - categorical_accuracy: 0.9725 - val_loss: 0.3480 - val_categorical_accuracy: 0.9206\n",
      "Epoch 10/30\n",
      "230/230 [==============================] - 1s 3ms/step - loss: 0.0810 - categorical_accuracy: 0.9723 - val_loss: 0.2837 - val_categorical_accuracy: 0.9294\n",
      "Epoch 11/30\n",
      "230/230 [==============================] - 1s 3ms/step - loss: 0.0514 - categorical_accuracy: 0.9826 - val_loss: 0.3473 - val_categorical_accuracy: 0.9365\n",
      "Epoch 12/30\n",
      "230/230 [==============================] - 1s 3ms/step - loss: 0.0626 - categorical_accuracy: 0.9774 - val_loss: 0.2913 - val_categorical_accuracy: 0.9379\n",
      "Epoch 13/30\n",
      "230/230 [==============================] - 1s 3ms/step - loss: 0.0910 - categorical_accuracy: 0.9763 - val_loss: 0.4261 - val_categorical_accuracy: 0.9233\n",
      "Epoch 14/30\n",
      "230/230 [==============================] - 1s 3ms/step - loss: 0.0813 - categorical_accuracy: 0.9759 - val_loss: 0.4085 - val_categorical_accuracy: 0.9454\n",
      "Epoch 15/30\n",
      "230/230 [==============================] - 1s 3ms/step - loss: 0.1077 - categorical_accuracy: 0.9748 - val_loss: 0.3857 - val_categorical_accuracy: 0.9379\n",
      "Epoch 16/30\n",
      "230/230 [==============================] - 1s 3ms/step - loss: 0.1116 - categorical_accuracy: 0.9742 - val_loss: 0.4407 - val_categorical_accuracy: 0.9396\n",
      "Epoch 17/30\n",
      "230/230 [==============================] - 1s 3ms/step - loss: 0.0767 - categorical_accuracy: 0.9786 - val_loss: 0.4272 - val_categorical_accuracy: 0.9433\n",
      "Epoch 18/30\n",
      "230/230 [==============================] - 1s 3ms/step - loss: 0.0791 - categorical_accuracy: 0.9815 - val_loss: 0.4402 - val_categorical_accuracy: 0.9433\n",
      "Epoch 19/30\n",
      "230/230 [==============================] - 1s 3ms/step - loss: 0.0724 - categorical_accuracy: 0.9808 - val_loss: 0.4287 - val_categorical_accuracy: 0.9505\n",
      "Epoch 20/30\n",
      "230/230 [==============================] - 1s 3ms/step - loss: 0.0442 - categorical_accuracy: 0.9852 - val_loss: 0.4252 - val_categorical_accuracy: 0.9515\n",
      "Epoch 21/30\n",
      "230/230 [==============================] - 1s 3ms/step - loss: 0.0732 - categorical_accuracy: 0.9814 - val_loss: 0.5834 - val_categorical_accuracy: 0.9416\n",
      "Epoch 22/30\n",
      "230/230 [==============================] - 1s 3ms/step - loss: 0.0911 - categorical_accuracy: 0.9812 - val_loss: 0.6799 - val_categorical_accuracy: 0.9291\n",
      "Epoch 23/30\n",
      "230/230 [==============================] - 1s 3ms/step - loss: 0.1029 - categorical_accuracy: 0.9805 - val_loss: 0.7639 - val_categorical_accuracy: 0.9335\n",
      "Epoch 24/30\n",
      "230/230 [==============================] - 1s 3ms/step - loss: 0.0968 - categorical_accuracy: 0.9808 - val_loss: 0.6535 - val_categorical_accuracy: 0.9287\n",
      "Epoch 25/30\n",
      "230/230 [==============================] - 1s 3ms/step - loss: 0.0518 - categorical_accuracy: 0.9856 - val_loss: 0.4454 - val_categorical_accuracy: 0.9491\n",
      "Epoch 26/30\n",
      "230/230 [==============================] - 1s 3ms/step - loss: 0.1067 - categorical_accuracy: 0.9807 - val_loss: 0.5382 - val_categorical_accuracy: 0.9389\n",
      "Epoch 27/30\n",
      "230/230 [==============================] - 1s 3ms/step - loss: 0.0674 - categorical_accuracy: 0.9839 - val_loss: 0.7773 - val_categorical_accuracy: 0.9420\n",
      "Epoch 28/30\n",
      "230/230 [==============================] - 1s 3ms/step - loss: 0.0645 - categorical_accuracy: 0.9827 - val_loss: 0.7123 - val_categorical_accuracy: 0.9444\n",
      "Epoch 29/30\n",
      "230/230 [==============================] - 1s 3ms/step - loss: 0.0760 - categorical_accuracy: 0.9816 - val_loss: 0.8602 - val_categorical_accuracy: 0.9362\n",
      "Epoch 30/30\n",
      "230/230 [==============================] - 1s 3ms/step - loss: 0.0912 - categorical_accuracy: 0.9818 - val_loss: 0.7720 - val_categorical_accuracy: 0.9362\n"
     ]
    },
    {
     "data": {
      "image/png": "[encoded data removed]",
      "text/plain": [
       "<Figure size 640x480 with 1 Axes>"
      ]
     },
     "metadata": {},
     "output_type": "display_data"
    },
    {
     "data": {
      "image/png": "[encoded data removed]",
      "text/plain": [
       "<Figure size 640x480 with 1 Axes>"
      ]
     },
     "metadata": {},
     "output_type": "display_data"
    }
   ],
   "source": [
    "history = model.fit(x_train, y_train, epochs=30, validation_data=(x_test, y_test))\n",
    "\n",
    "plt.plot(history.history['categorical_accuracy'])\n",
    "plt.title('model accuracy')\n",
    "plt.ylabel('accuracy')\n",
    "plt.xlabel('epoch')\n",
    "plt.show()\n",
    "\n",
    "\n",
    "plt.plot(history.history['loss'])\n",
    "plt.title('model loss')\n",
    "plt.ylabel('loss')\n",
    "plt.xlabel('epoch')\n",
    "plt.show()"
   ]
  },
  {
   "cell_type": "markdown",
   "metadata": {},
   "source": [
    "## Evaluate model on complete test dataset"
   ]
  },
  {
   "cell_type": "code",
   "execution_count": 46,
   "metadata": {
    "tags": []
   },
   "outputs": [
    {
     "name": "stdout",
     "output_type": "stream",
     "text": [
      "93/93 - 0s - loss: 0.7720 - categorical_accuracy: 0.9362 - 137ms/epoch - 1ms/step\n",
      "93/93 [==============================] - 0s 2ms/step\n",
      "tf.Tensor(\n",
      "[[475  14   7   0   0   0]\n",
      " [  3 466   1   0   0   1]\n",
      " [  2  43 375   0   0   0]\n",
      " [  0   0   0 416  75   0]\n",
      " [  2   2   0  36 490   2]\n",
      " [  0   0   0   0   0 537]], shape=(6, 6), dtype=int32)\n"
     ]
    }
   ],
   "source": [
    "model.evaluate(x_test, y_test, verbose=2)\n",
    "pred_test = model.predict(x_test)\n",
    "print(tf.math.confusion_matrix(y_test.argmax(axis=1), pred_test.argmax(axis=1)))"
   ]
  },
  {
   "cell_type": "markdown",
   "metadata": {},
   "source": [
    "## Evaluate model on small test dataset"
   ]
  },
  {
   "cell_type": "code",
   "execution_count": 47,
   "metadata": {},
   "outputs": [
    {
     "name": "stdout",
     "output_type": "stream",
     "text": [
      "8/8 - 0s - loss: 1.2545 - categorical_accuracy: 0.8720 - 24ms/epoch - 3ms/step\n",
      "8/8 [==============================] - 0s 2ms/step\n",
      "tf.Tensor(\n",
      "[[53  0  0  0  0  0]\n",
      " [ 0 25  0  0  0  0]\n",
      " [ 1  4 19  0  0  0]\n",
      " [ 0  0  0 27 19  0]\n",
      " [ 0  0  0  8 46  0]\n",
      " [ 0  0  0  0  0 48]], shape=(6, 6), dtype=int32)\n"
     ]
    }
   ],
   "source": [
    "model.evaluate(x_test_250, y_test_250, verbose=2)\n",
    "pred_test_250 = model.predict(x_test_250)\n",
    "print(tf.math.confusion_matrix(y_test_250.argmax(axis=1), pred_test_250.argmax(axis=1)))"
   ]
  },
  {
   "cell_type": "markdown",
   "metadata": {},
   "source": [
    "## Save trained model"
   ]
  },
  {
   "cell_type": "code",
   "execution_count": 9,
   "metadata": {
    "tags": []
   },
   "outputs": [],
   "source": [
    "model.save('lab1_part2_uci-har.h5')"
   ]
  }
 ],
 "metadata": {
  "kernelspec": {
   "display_name": "Python 3 (ipykernel)",
   "language": "python",
   "name": "python3"
  },
  "language_info": {
   "codemirror_mode": {
    "name": "ipython",
    "version": 3
   },
   "file_extension": ".py",
   "mimetype": "text/x-python",
   "name": "python",
   "nbconvert_exporter": "python",
   "pygments_lexer": "ipython3",
   "version": "3.10.9"
  }
 },
 "nbformat": 4,
 "nbformat_minor": 4
}
