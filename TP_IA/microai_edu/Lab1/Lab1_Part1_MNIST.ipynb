{
 "cells": [
  {
   "cell_type": "markdown",
   "metadata": {},
   "source": [
    "# Lab 1 Part I: MNIST 2D CNN"
   ]
  },
  {
   "cell_type": "markdown",
   "metadata": {},
   "source": [
    "## Imports"
   ]
  },
  {
   "cell_type": "code",
   "execution_count": 1,
   "metadata": {
    "tags": []
   },
   "outputs": [],
   "source": [
    "import numpy as np\n",
    "import tensorflow as tf\n",
    "from keras.models import Sequential\n",
    "from keras.layers import Input, Conv2D, MaxPool2D, Flatten, Dense\n",
    "from keras.datasets import mnist\n",
    "from keras.utils.np_utils import to_categorical"
   ]
  },
  {
   "cell_type": "markdown",
   "metadata": {},
   "source": [
    "## Load and format MNIST dataset"
   ]
  },
  {
   "cell_type": "code",
   "execution_count": 2,
   "metadata": {
    "tags": []
   },
   "outputs": [],
   "source": [
    "(x_train, y_train), (x_test, y_test) = mnist.load_data()\n",
    "x_train = x_train.astype('float32') / 255\n",
    "x_test  = x_test.astype('float32')  / 255\n",
    "x_train = x_train.reshape((60000, 28, 28, 1)) # 'channels_last' format\n",
    "x_test  = x_test.reshape((10000, 28, 28, 1)) # 'channels_last' format\n",
    "y_train = to_categorical(y_train, 10)\n",
    "y_test  = to_categorical(y_test,  10)"
   ]
  },
  {
   "cell_type": "markdown",
   "metadata": {},
   "source": [
    "## Build model"
   ]
  },
  {
   "cell_type": "code",
   "execution_count": 3,
   "metadata": {
    "tags": []
   },
   "outputs": [
    {
     "name": "stdout",
     "output_type": "stream",
     "text": [
      "Model: \"sequential\"\n",
      "_________________________________________________________________\n",
      " Layer (type)                Output Shape              Param #   \n",
      "=================================================================\n",
      " conv2d (Conv2D)             (None, 26, 26, 10)        100       \n",
      "                                                                 \n",
      " max_pooling2d (MaxPooling2D  (None, 13, 13, 10)       0         \n",
      " )                                                               \n",
      "                                                                 \n",
      " conv2d_1 (Conv2D)           (None, 7, 7, 10)          4910      \n",
      "                                                                 \n",
      " flatten (Flatten)           (None, 490)               0         \n",
      "                                                                 \n",
      " dense (Dense)               (None, 10)                4910      \n",
      "                                                                 \n",
      "=================================================================\n",
      "Total params: 9,920\n",
      "Trainable params: 9,920\n",
      "Non-trainable params: 0\n",
      "_________________________________________________________________\n"
     ]
    }
   ],
   "source": [
    "model = Sequential()\n",
    "model.add(Input(shape=(28, 28, 1)))\n",
    "model.add(Conv2D(filters=10, kernel_size=(3, 3), activation='relu'))\n",
    "model.add(MaxPool2D())\n",
    "model.add(Conv2D(filters=10, kernel_size=(7, 7), activation='relu'))\n",
    "model.add(Flatten())\n",
    "model.add(Dense(units=10, activation='softmax'))\n",
    "model.summary()\n",
    "model.compile(optimizer='adam', loss='categorical_crossentropy', metrics=['categorical_accuracy'])"
   ]
  },
  {
   "cell_type": "markdown",
   "metadata": {},
   "source": [
    "## Train model"
   ]
  },
  {
   "cell_type": "code",
   "execution_count": 4,
   "metadata": {
    "tags": []
   },
   "outputs": [
    {
     "name": "stdout",
     "output_type": "stream",
     "text": [
      "Epoch 1/5\n",
      "1875/1875 [==============================] - 13s 7ms/step - loss: 0.2322 - categorical_accuracy: 0.9315 - val_loss: 0.0811 - val_categorical_accuracy: 0.9759\n",
      "Epoch 2/5\n",
      "1875/1875 [==============================] - 12s 7ms/step - loss: 0.0759 - categorical_accuracy: 0.9772 - val_loss: 0.0514 - val_categorical_accuracy: 0.9836\n",
      "Epoch 3/5\n",
      "1875/1875 [==============================] - 12s 6ms/step - loss: 0.0549 - categorical_accuracy: 0.9832 - val_loss: 0.0513 - val_categorical_accuracy: 0.9820\n",
      "Epoch 4/5\n",
      "1875/1875 [==============================] - 12s 6ms/step - loss: 0.0454 - categorical_accuracy: 0.9861 - val_loss: 0.0405 - val_categorical_accuracy: 0.9870\n",
      "Epoch 5/5\n",
      "1875/1875 [==============================] - 12s 6ms/step - loss: 0.0376 - categorical_accuracy: 0.9885 - val_loss: 0.0447 - val_categorical_accuracy: 0.9851\n"
     ]
    },
    {
     "data": {
      "text/plain": "<keras.callbacks.History at 0x275d32e48e0>"
     },
     "execution_count": 4,
     "metadata": {},
     "output_type": "execute_result"
    }
   ],
   "source": [
    "model.fit(x_train, y_train, epochs=5, validation_data=(x_test, y_test))"
   ]
  },
  {
   "cell_type": "markdown",
   "metadata": {},
   "source": [
    "## Evaluate model"
   ]
  },
  {
   "cell_type": "code",
   "execution_count": 5,
   "metadata": {
    "tags": []
   },
   "outputs": [
    {
     "name": "stdout",
     "output_type": "stream",
     "text": [
      "313/313 - 1s - loss: 0.0447 - categorical_accuracy: 0.9851 - 1s/epoch - 4ms/step\n",
      "313/313 [==============================] - 1s 3ms/step\n",
      "tf.Tensor(\n",
      "[[ 976    0    0    0    0    0    1    0    1    2]\n",
      " [   0 1128    0    4    0    1    0    1    1    0]\n",
      " [   2    2 1015    5    1    0    0    4    2    1]\n",
      " [   0    0    0 1007    0    2    0    0    0    1]\n",
      " [   1    1    1    0  956    0    2    1    0   20]\n",
      " [   1    0    0   11    0  875    1    0    0    4]\n",
      " [   4    2    0    1    1    1  946    0    2    1]\n",
      " [   0    1    6    6    0    0    0  999    1   15]\n",
      " [   6    0    2    5    0    4    1    2  947    7]\n",
      " [   0    0    0    2    2    1    0    2    0 1002]], shape=(10, 10), dtype=int32)\n"
     ]
    }
   ],
   "source": [
    "model.evaluate(x_test, y_test, verbose=2)\n",
    "pred_test = model.predict(x_test)\n",
    "print(tf.math.confusion_matrix(y_test.argmax(axis=1), pred_test.argmax(axis=1)))"
   ]
  },
  {
   "cell_type": "markdown",
   "metadata": {},
   "source": [
    "## Save trained model"
   ]
  },
  {
   "cell_type": "code",
   "execution_count": 6,
   "metadata": {
    "tags": []
   },
   "outputs": [],
   "source": [
    "model.save('lab1_part1_mnist.h5')"
   ]
  },
  {
   "cell_type": "code",
   "execution_count": null,
   "metadata": {},
   "outputs": [],
   "source": []
  }
 ],
 "metadata": {
  "kernelspec": {
   "display_name": "Python 3 (ipykernel)",
   "language": "python",
   "name": "python3"
  },
  "language_info": {
   "codemirror_mode": {
    "name": "ipython",
    "version": 3
   },
   "file_extension": ".py",
   "mimetype": "text/x-python",
   "name": "python",
   "nbconvert_exporter": "python",
   "pygments_lexer": "ipython3",
   "version": "3.10.9"
  }
 },
 "nbformat": 4,
 "nbformat_minor": 4
}
